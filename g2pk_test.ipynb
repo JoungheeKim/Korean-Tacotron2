{
 "cells": [
  {
   "cell_type": "code",
   "execution_count": 1,
   "id": "89abb9b1",
   "metadata": {},
   "outputs": [
    {
     "name": "stderr",
     "output_type": "stream",
     "text": [
      "[nltk_data] Downloading package cmudict to /home/jh/nltk_data...\n",
      "[nltk_data]   Unzipping corpora/cmudict.zip.\n"
     ]
    }
   ],
   "source": [
    "from g2pk import G2p"
   ]
  },
  {
   "cell_type": "code",
   "execution_count": 4,
   "id": "66bb47ea",
   "metadata": {},
   "outputs": [],
   "source": [
    "g2p = G2p()"
   ]
  },
  {
   "cell_type": "code",
   "execution_count": 9,
   "id": "3edd51b6",
   "metadata": {},
   "outputs": [],
   "source": [
    "sent = \"wow 이게 된다고?\""
   ]
  },
  {
   "cell_type": "code",
   "execution_count": 10,
   "id": "97a5afc9",
   "metadata": {},
   "outputs": [
    {
     "data": {
      "text/plain": [
       "'와우 이게 된다고?'"
      ]
     },
     "execution_count": 10,
     "metadata": {},
     "output_type": "execute_result"
    }
   ],
   "source": [
    "g2p(sent)"
   ]
  },
  {
   "cell_type": "code",
   "execution_count": null,
   "id": "6e0407c5",
   "metadata": {},
   "outputs": [],
   "source": []
  }
 ],
 "metadata": {
  "kernelspec": {
   "display_name": "Python 3",
   "language": "python",
   "name": "python3"
  },
  "language_info": {
   "codemirror_mode": {
    "name": "ipython",
    "version": 3
   },
   "file_extension": ".py",
   "mimetype": "text/x-python",
   "name": "python",
   "nbconvert_exporter": "python",
   "pygments_lexer": "ipython3",
   "version": "3.6.9"
  }
 },
 "nbformat": 4,
 "nbformat_minor": 5
}
